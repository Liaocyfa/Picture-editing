{
 "cells": [
  {
   "cell_type": "code",
   "execution_count": 1,
   "id": "187d4e2c-c85a-480a-8cf1-14f59905f753",
   "metadata": {},
   "outputs": [],
   "source": [
    "from PIL import Image\n",
    "pic=Image.open('C:/Users/user/OneDrive/桌面/patrickstar.jpg')"
   ]
  },
  {
   "cell_type": "code",
   "execution_count": 2,
   "id": "3529bd5c-f9a6-4df6-8375-3d61ac551dab",
   "metadata": {
    "scrolled": true
   },
   "outputs": [
    {
     "name": "stdout",
     "output_type": "stream",
     "text": [
      "圖片寬度: 600\n",
      "圖片高度: 623\n"
     ]
    }
   ],
   "source": [
    "print('圖片寬度:',pic.width)\n",
    "print('圖片高度:',pic.height)"
   ]
  },
  {
   "cell_type": "code",
   "execution_count": 3,
   "id": "3a8f13d8-d9e9-4c9f-85df-21b6b2ec18e0",
   "metadata": {},
   "outputs": [
    {
     "name": "stdout",
     "output_type": "stream",
     "text": [
      "圖片檔案格式: JPEG\n",
      "圖片色彩模式: RGB\n",
      "圖片大小: (600, 623)\n"
     ]
    }
   ],
   "source": [
    "print('圖片檔案格式:',pic.format)\n",
    "print('圖片色彩模式:',pic.mode)\n",
    "print('圖片大小:',pic.size)"
   ]
  },
  {
   "cell_type": "code",
   "execution_count": 4,
   "id": "e47558d4-7feb-494d-875e-ff5731b13165",
   "metadata": {},
   "outputs": [],
   "source": [
    "pic.show()"
   ]
  },
  {
   "cell_type": "code",
   "execution_count": 5,
   "id": "26d83107-18f2-4f7f-80d5-2d589c6e7b91",
   "metadata": {},
   "outputs": [
    {
     "name": "stdout",
     "output_type": "stream",
     "text": [
      "原本的圖片色彩模式: RGB\n",
      "轉換黑白後的圖片色彩模式: 1\n"
     ]
    }
   ],
   "source": [
    "print('原本的圖片色彩模式:',pic.mode)\n",
    "new_pic=pic.convert('1')\n",
    "new_pic.show()\n",
    "print('轉換黑白後的圖片色彩模式:',new_pic.mode)"
   ]
  },
  {
   "cell_type": "code",
   "execution_count": 6,
   "id": "f94393f2-87e3-4f81-81c5-f7288c400c57",
   "metadata": {},
   "outputs": [],
   "source": [
    "new_pic2=pic.rotate(30)\n",
    "new_pic2.show()"
   ]
  },
  {
   "cell_type": "code",
   "execution_count": 7,
   "id": "50278081-4547-47de-97c2-eb550949c656",
   "metadata": {},
   "outputs": [],
   "source": [
    "new_pic3=pic.rotate(-30)\n",
    "new_pic3.show()"
   ]
  },
  {
   "cell_type": "code",
   "execution_count": 8,
   "id": "64d147cb-3e51-48d6-9a3d-c2a80bdc5811",
   "metadata": {},
   "outputs": [],
   "source": [
    "from PIL import Image\n",
    "from PIL import ImageFilter\n",
    "pic=Image.open('C:/Users/user/OneDrive/桌面/patrickstar.jpg')"
   ]
  },
  {
   "cell_type": "code",
   "execution_count": 9,
   "id": "24a22e6b-d0ea-48fc-a8d9-8116e6c21568",
   "metadata": {},
   "outputs": [],
   "source": [
    "new_pic=pic.filter(ImageFilter.CONTOUR)\n",
    "new_pic.save('C:/Users/user/OneDrive/桌面/patrickstar3.jpg')\n",
    "new_pic.show()"
   ]
  },
  {
   "cell_type": "code",
   "execution_count": 10,
   "id": "d79f427f-8d63-4a3c-8003-751e02c07909",
   "metadata": {},
   "outputs": [
    {
     "name": "stdout",
     "output_type": "stream",
     "text": [
      "原圖大小: (600, 623)\n",
      "縮放後圖形大小: (600, 400)\n"
     ]
    }
   ],
   "source": [
    "print('原圖大小:',pic.size)\n",
    "new_pic=pic.resize((600,400))\n",
    "print('縮放後圖形大小:',new_pic.size)\n",
    "new_pic.save('C:/Users/user/OneDrive/桌面/patrickstar4.jpg')\n",
    "new_pic.show()"
   ]
  },
  {
   "cell_type": "code",
   "execution_count": 11,
   "id": "dc2bc892-f404-4118-bcc5-58e6497241e5",
   "metadata": {},
   "outputs": [],
   "source": [
    "from PIL import Image, ImageFont, ImageDraw\n",
    "pic=Image.open('C:/Users/user/OneDrive/桌面/patrickstar.jpg')"
   ]
  },
  {
   "cell_type": "code",
   "execution_count": 12,
   "id": "a4383493-57bc-4228-8ed7-73080204c303",
   "metadata": {},
   "outputs": [],
   "source": [
    "t_font=ImageFont.truetype('c://Windows//Fonts//Arial//arial.ttf',30)\n",
    "draw=ImageDraw.Draw(pic)\n",
    "\n",
    "draw.text((20,30),'SHOCKED',font=t_font,fill=(255,0,0,255))\n",
    "draw.text((20,100),'Patrick',font=t_font,fill=(0,255,0,255))\n",
    "pic.show()"
   ]
  }
 ],
 "metadata": {
  "kernelspec": {
   "display_name": "Python 3 (ipykernel)",
   "language": "python",
   "name": "python3"
  },
  "language_info": {
   "codemirror_mode": {
    "name": "ipython",
    "version": 3
   },
   "file_extension": ".py",
   "mimetype": "text/x-python",
   "name": "python",
   "nbconvert_exporter": "python",
   "pygments_lexer": "ipython3",
   "version": "3.11.7"
  }
 },
 "nbformat": 4,
 "nbformat_minor": 5
}
